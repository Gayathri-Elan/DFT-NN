{
 "cells": [
  {
   "cell_type": "code",
   "execution_count": 56,
   "id": "a7700627-1fd6-45aa-a7df-d821b61bb9f0",
   "metadata": {
    "tags": []
   },
   "outputs": [],
   "source": [
    "#Importing necessary packages\n",
    "import torch\n",
    "import torch.nn as nn\n",
    "import torch.optim as optim\n",
    "import numpy as np\n",
    "import matplotlib.pyplot as plt"
   ]
  },
  {
   "cell_type": "code",
   "execution_count": 57,
   "id": "32f80ccf-f0c8-49ab-9cec-dd7425639c65",
   "metadata": {},
   "outputs": [],
   "source": [
    "def dft(x):\n",
    "    return torch.fft.fft(x)"
   ]
  },
  {
   "cell_type": "code",
   "execution_count": 68,
   "id": "f76f6a92-30fd-4ef5-adf1-f75aaad1563f",
   "metadata": {},
   "outputs": [],
   "source": [
    "torch.manual_seed(42) #seed used for simulation replication\n",
    "data_size = 500\n",
    "N = 10 #fixed_length of DFT\n",
    "data_input = np.random.uniform(low=-20, high=20, size = (data_size, N)) #Generate input data\n",
    "data_output = np.zeros((data_size, N), dtype = np.complex64)\n",
    "\n",
    "# Calculate respective output data using built-in function\n",
    "for i in range(data_size):\n",
    "    data_output[i] = dft(torch.tensor(data_input[i]))\n",
    "\n",
    "data_output_real = data_output.real\n",
    "data_output_imag = data_output.imag\n",
    "\n",
    "data_output_nn = np.hstack((data_output_real, data_output_imag))"
   ]
  },
  {
   "cell_type": "markdown",
   "id": "39cce8c9-a063-4aa0-8f1a-58664b742937",
   "metadata": {},
   "source": [
    "<span style =\"font-family:cursive; font-size: 90%\">\n",
    "1. Output of NN is flattened by concatenating real part of DFT with imaginary part of DFT, that is, for each N-length input, output is 2N-length. <br/>\n",
    "2. Each row of data_output_nn now corresponds to DFT of each row of data_input, respectively"
   ]
  },
  {
   "cell_type": "code",
   "execution_count": 59,
   "id": "1e7e89db-8ae5-46a1-9074-4157f566139d",
   "metadata": {},
   "outputs": [],
   "source": [
    "class linear_nn(nn.Module):\n",
    "    def __init__(self, input_size, output_size):\n",
    "        super(linear_nn,self).__init__()\n",
    "        self.layers = nn.ModuleList()\n",
    "        self.layers.append(nn.Linear(input_size, output_size))\n",
    "        \n",
    "    #Forward propagation\n",
    "    def forward(self, x):\n",
    "        for layer in self.layers:\n",
    "            x = layer(x)\n",
    "        return x"
   ]
  },
  {
   "cell_type": "markdown",
   "id": "96514b25-d833-45b7-97f3-50f21d5b9709",
   "metadata": {},
   "source": [
    "<span style =\"font-family:cursive; font-size: 90%\">\n",
    "With prior knowledge that DFT is a linear transformation, we train a linear NN to model it\n",
    "</span>"
   ]
  },
  {
   "cell_type": "code",
   "execution_count": 60,
   "id": "221d1878-36c2-4ff7-b15b-3119b135f369",
   "metadata": {},
   "outputs": [],
   "source": [
    "input_size = N\n",
    "output_size = 2*N\n",
    "linear_model = linear_nn(input_size, output_size)\n",
    "\n",
    "#80% datasets are used for training, 20% for testing\n",
    "train_size = int(0.8 * data_size)\n",
    "\n",
    "#Mean-Squared Error loss function\n",
    "loss_fcn = nn.MSELoss()\n",
    "learning_rate = 0.01     #Hyper-parameter\n",
    "\n",
    "#Stochastic Gradient Descent Alogrithm optimizer\n",
    "optimizer = optim.SGD(linear_model.parameters(), lr = learning_rate)\n",
    "\n",
    "training_loss = []"
   ]
  },
  {
   "cell_type": "code",
   "execution_count": 61,
   "id": "d30518bc-4a5a-4636-a1f7-3b11edd85a12",
   "metadata": {},
   "outputs": [],
   "source": [
    "data_input_tensor = torch.FloatTensor(data_input)\n",
    "data_output_tensor = torch.FloatTensor(data_output_nn)"
   ]
  },
  {
   "cell_type": "code",
   "execution_count": 62,
   "id": "af851111-d553-450e-a0df-a75abb81f3c3",
   "metadata": {},
   "outputs": [
    {
     "name": "stdout",
     "output_type": "stream",
     "text": [
      "Epoch: 10, Training Error: 6.371058343114289e-05\n",
      "Epoch: 20, Training Error: 2.0859748774844887e-08\n",
      "Epoch: 30, Training Error: 2.310168132962573e-11\n",
      "Epoch: 40, Training Error: 1.492991573632304e-11\n",
      "Epoch: 50, Training Error: 1.4322434704699092e-11\n",
      "Epoch: 60, Training Error: 1.4171169945517183e-11\n",
      "Epoch: 70, Training Error: 1.5033429408024128e-11\n",
      "Epoch: 80, Training Error: 1.460010936530764e-11\n",
      "Epoch: 90, Training Error: 1.513993297646687e-11\n",
      "Epoch: 100, Training Error: 1.5074412112450406e-11\n",
      "Epoch: 110, Training Error: 1.5684976533195638e-11\n",
      "Epoch: 120, Training Error: 1.5033496279987826e-11\n",
      "Epoch: 130, Training Error: 1.4788004634854955e-11\n",
      "Epoch: 140, Training Error: 1.45716293480265e-11\n",
      "Epoch: 150, Training Error: 1.5039365043037143e-11\n",
      "Epoch: 160, Training Error: 1.5240879021067438e-11\n",
      "Epoch: 170, Training Error: 1.424379958273915e-11\n",
      "Epoch: 180, Training Error: 1.446100788432287e-11\n",
      "Epoch: 190, Training Error: 1.4326519270500999e-11\n",
      "Epoch: 200, Training Error: 1.4570883723218944e-11\n"
     ]
    }
   ],
   "source": [
    "#Model training\n",
    "n_epochs = 200\n",
    "for epoch in range(n_epochs):\n",
    "    linear_model.train()   #Model is set to be in training mode\n",
    "    training_error = 0\n",
    "    \n",
    "    for i in range(train_size):\n",
    "        predicted_output = linear_model(data_input_tensor[i])\n",
    "        \n",
    "        #MSE error between prediction from nn and expected output\n",
    "        loss = loss_fcn(predicted_output, data_output_tensor[i])\n",
    "        training_error = training_error + loss.item()\n",
    "        \n",
    "        #Backward propagation\n",
    "        optimizer.zero_grad()\n",
    "        loss.backward()\n",
    "        optimizer.step()\n",
    "    \n",
    "    #Average of individual losses over training size\n",
    "    training_error = training_error/train_size\n",
    "    training_loss.append(training_error)\n",
    "    \n",
    "    if (epoch + 1) % 10 == 0:\n",
    "        print(f\"Epoch: {epoch + 1}, Training Error: {training_error}\")"
   ]
  },
  {
   "cell_type": "code",
   "execution_count": 63,
   "id": "0cec0181-31fb-4b04-a1d3-6f6bcc55f7a7",
   "metadata": {},
   "outputs": [
    {
     "data": {
      "text/plain": [
       "Text(0.5, 1.0, 'Training Error over Epochs')"
      ]
     },
     "execution_count": 63,
     "metadata": {},
     "output_type": "execute_result"
    },
    {
     "data": {
      "image/png": "[encoded data removed]",
      "text/plain": [
       "<Figure size 432x288 with 1 Axes>"
      ]
     },
     "metadata": {
      "needs_background": "light"
     },
     "output_type": "display_data"
    }
   ],
   "source": [
    "plt.plot(training_loss)\n",
    "plt.xlabel(\"Number of Epochs\")\n",
    "plt.ylabel(\"Training Error\")\n",
    "plt.title(\"Training Error over Epochs\")"
   ]
  },
  {
   "cell_type": "code",
   "execution_count": 64,
   "id": "78b384ce-65b5-4187-84b2-598b0bbb9c87",
   "metadata": {},
   "outputs": [
    {
     "data": {
      "text/plain": [
       "linear_nn(\n",
       "  (layers): ModuleList(\n",
       "    (0): Linear(in_features=10, out_features=20, bias=True)\n",
       "  )\n",
       ")"
      ]
     },
     "execution_count": 64,
     "metadata": {},
     "output_type": "execute_result"
    }
   ],
   "source": [
    "linear_model.eval()"
   ]
  },
  {
   "cell_type": "code",
   "execution_count": 65,
   "id": "a7200042-ba53-4f66-a550-7a3350c68b01",
   "metadata": {},
   "outputs": [
    {
     "name": "stdout",
     "output_type": "stream",
     "text": [
      "Test Error: 1.9018876751264457e-11\n"
     ]
    }
   ],
   "source": [
    "test_input = data_input_tensor[train_size + 1 : ]\n",
    "test_output = data_output_tensor[train_size + 1 : ]\n",
    "predicted_output = linear_model(test_input)\n",
    "loss = loss_fcn(predicted_output,test_output)\n",
    "\n",
    "test_error = loss.item()\n",
    "print(f\"Test Error: {test_error}\")"
   ]
  },
  {
   "cell_type": "markdown",
   "id": "2f9a496b-c7bb-4fcc-8e7f-623d547aba39",
   "metadata": {},
   "source": [
    "<span style =\"font-family:cursive; font-size: 90%\">\n",
    "Significantly low test error, the trained NN can be used as an approximate model fitting the required transformation\n",
    "</span>"
   ]
  },
  {
   "cell_type": "code",
   "execution_count": 66,
   "id": "f65590f4-ad98-43d9-b396-f4b18f147539",
   "metadata": {},
   "outputs": [
    {
     "data": {
      "text/plain": [
       "tensor([[ 1.0000+1.1081e-37j,  1.0000-4.6603e-08j,  1.0000+3.8808e-08j,\n",
       "          1.0000-1.2191e-08j,  1.0000+1.0421e-07j,  1.0000+1.5241e-37j,\n",
       "          1.0000+2.2398e-08j,  1.0000+4.1601e-09j,  1.0000+1.6635e-08j,\n",
       "          1.0000+3.8894e-08j],\n",
       "        [ 1.0000+7.0294e-38j,  0.8090-5.8779e-01j,  0.3090-9.5106e-01j,\n",
       "         -0.3090-9.5106e-01j, -0.8090-5.8779e-01j, -1.0000+9.6689e-38j,\n",
       "         -0.8090+5.8779e-01j, -0.3090+9.5106e-01j,  0.3090+9.5106e-01j,\n",
       "          0.8090+5.8779e-01j],\n",
       "        [ 1.0000+7.2150e-38j,  0.3090-9.5106e-01j, -0.8090-5.8779e-01j,\n",
       "         -0.8090+5.8779e-01j,  0.3090+9.5106e-01j,  1.0000+9.9240e-38j,\n",
       "          0.3090-9.5106e-01j, -0.8090-5.8779e-01j, -0.8090+5.8779e-01j,\n",
       "          0.3090+9.5106e-01j],\n",
       "        [ 1.0000+7.4301e-39j, -0.3090-9.5106e-01j, -0.8090+5.8779e-01j,\n",
       "          0.8090+5.8779e-01j,  0.3090-9.5106e-01j, -1.0000+1.0220e-38j,\n",
       "          0.3090+9.5106e-01j,  0.8090-5.8779e-01j, -0.8090-5.8779e-01j,\n",
       "         -0.3090+9.5106e-01j],\n",
       "        [ 1.0000+3.2489e-37j, -0.8090-5.8779e-01j,  0.3090+9.5106e-01j,\n",
       "          0.3090-9.5106e-01j, -0.8090+5.8779e-01j,  1.0000+4.4688e-37j,\n",
       "         -0.8090-5.8779e-01j,  0.3090+9.5106e-01j,  0.3090-9.5106e-01j,\n",
       "         -0.8090+5.8779e-01j],\n",
       "        [ 1.0000+2.7430e-37j, -1.0000-7.1349e-08j,  1.0000-2.3499e-07j,\n",
       "         -1.0000-8.7294e-08j,  1.0000+2.0078e-07j, -1.0000+3.7729e-37j,\n",
       "          1.0000+1.2772e-07j, -1.0000+1.7978e-08j,  1.0000-7.8881e-08j,\n",
       "         -1.0000+1.3442e-08j],\n",
       "        [ 1.0000-2.7382e-38j, -0.8090+5.8779e-01j,  0.3090-9.5106e-01j,\n",
       "          0.3090+9.5106e-01j, -0.8090-5.8779e-01j,  1.0000-3.7664e-38j,\n",
       "         -0.8090+5.8779e-01j,  0.3090-9.5106e-01j,  0.3090+9.5106e-01j,\n",
       "         -0.8090-5.8779e-01j],\n",
       "        [ 1.0000-1.6725e-38j, -0.3090+9.5106e-01j, -0.8090-5.8779e-01j,\n",
       "          0.8090-5.8779e-01j,  0.3090+9.5106e-01j, -1.0000-2.3004e-38j,\n",
       "          0.3090-9.5106e-01j,  0.8090+5.8779e-01j, -0.8090+5.8779e-01j,\n",
       "         -0.3090-9.5106e-01j],\n",
       "        [ 1.0000-1.7618e-38j,  0.3090+9.5106e-01j, -0.8090+5.8779e-01j,\n",
       "         -0.8090-5.8779e-01j,  0.3090-9.5106e-01j,  1.0000-2.4233e-38j,\n",
       "          0.3090+9.5106e-01j, -0.8090+5.8779e-01j, -0.8090-5.8779e-01j,\n",
       "          0.3090-9.5106e-01j],\n",
       "        [ 1.0000-4.5870e-37j,  0.8090+5.8779e-01j,  0.3090+9.5106e-01j,\n",
       "         -0.3090+9.5106e-01j, -0.8090+5.8779e-01j, -1.0000-6.3093e-37j,\n",
       "         -0.8090-5.8779e-01j, -0.3090-9.5106e-01j,  0.3090-9.5106e-01j,\n",
       "          0.8090-5.8779e-01j]], grad_fn=<AddBackward0>)"
      ]
     },
     "execution_count": 66,
     "metadata": {},
     "output_type": "execute_result"
    }
   ],
   "source": [
    "weight = torch.transpose(linear_model.layers[0].weight, 0, 1)\n",
    "DFT_matrix = weight[:,0:N] + weight[:,N:2*N]*1j\n",
    "DFT_matrix"
   ]
  },
  {
   "cell_type": "markdown",
   "id": "26566483-fb11-4aad-b983-49bb8add4c70",
   "metadata": {},
   "source": [
    "<span style =\"font-family:cursive; font-size: 90%\">\n",
    "Since the model is linear, the trained weights essentially give us the DFT matrix for given length N.\n",
    "</span>"
   ]
  },
  {
   "cell_type": "code",
   "execution_count": 67,
   "id": "b1bc89bc-6b1d-44db-9691-abd32b5ae87e",
   "metadata": {},
   "outputs": [],
   "source": [
    "def calculate_DFT(x):\n",
    "    dft_concat = linear_model(torch.tensor(x)).detach().numpy()\n",
    "    return dft_concat[0:N] + dft_concat[N:2*N]*1j"
   ]
  },
  {
   "cell_type": "markdown",
   "id": "f19c897d-b9d2-4252-93e6-9151e2393a3d",
   "metadata": {},
   "source": [
    "<span style =\"font-family:cursive; font-size: 90%\">\n",
    "calculate_DFT uses trained NN implementation to calculate DFT of a fixed length input data\n",
    "</span>"
   ]
  }
 ],
 "metadata": {
  "kernelspec": {
   "display_name": "Python 3 (ipykernel)",
   "language": "python",
   "name": "python3"
  },
  "language_info": {
   "codemirror_mode": {
    "name": "ipython",
    "version": 3
   },
   "file_extension": ".py",
   "mimetype": "text/x-python",
   "name": "python",
   "nbconvert_exporter": "python",
   "pygments_lexer": "ipython3",
   "version": "3.9.12"
  }
 },
 "nbformat": 4,
 "nbformat_minor": 5
}
